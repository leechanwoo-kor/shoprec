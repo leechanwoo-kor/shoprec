{
 "cells": [
  {
   "cell_type": "markdown",
   "metadata": {},
   "source": [
    "## 1. 라이브러리 임포트"
   ]
  },
  {
   "cell_type": "code",
   "execution_count": 5,
   "metadata": {},
   "outputs": [],
   "source": [
    "import pandas as pd\n",
    "import numpy as np\n",
    "import json\n",
    "import matplotlib.pyplot as plt\n",
    "import seaborn as sns\n",
    "from datetime import datetime\n",
    "\n",
    "sns.set(style=\"whitegrid\")"
   ]
  },
  {
   "cell_type": "markdown",
   "metadata": {},
   "source": [
    "## 2. CSV (또는 Parquet 등) 로드"
   ]
  },
  {
   "cell_type": "code",
   "execution_count": null,
   "metadata": {},
   "outputs": [],
   "source": [
    "FILE_PATH = \"../data/raw/event_log.csv\"\n",
    "df = pd.read_csv(FILE_PATH)"
   ]
  },
  {
   "cell_type": "markdown",
   "metadata": {},
   "source": [
    "# 3. 기본 구조 확인"
   ]
  },
  {
   "cell_type": "code",
   "execution_count": null,
   "metadata": {},
   "outputs": [],
   "source": [
    "print(\"=== DataFrame Head ===\")\n",
    "display(df.head())\n",
    "\n",
    "print(\"=== Info ===\")\n",
    "df.info()\n",
    "\n",
    "print(\"=== Null Counts ===\")\n",
    "print(df.isnull().sum())\n",
    "\n",
    "print(\"=== Describe (All) ===\")\n",
    "display(df.describe(include=\"all\"))"
   ]
  },
  {
   "cell_type": "markdown",
   "metadata": {},
   "source": [
    "## 4. 주요 컬럼 분포 살펴보기\n",
    "\n",
    "### (1) Event Category 분포"
   ]
  },
  {
   "cell_type": "code",
   "execution_count": null,
   "metadata": {},
   "outputs": [],
   "source": [
    "print(\"=== Event Category 분포 ===\")\n",
    "display(df[\"Event Category\"].value_counts())\n",
    "\n",
    "plt.figure(figsize=(6,4))\n",
    "sns.countplot(data=df, x=\"Event Category\", order=df[\"Event Category\"].value_counts().index)\n",
    "plt.xticks(rotation=45)\n",
    "plt.title(\"Event Category Distribution\")\n",
    "plt.xlabel(\"Event Category\")\n",
    "plt.ylabel(\"Count\")\n",
    "plt.show()"
   ]
  },
  {
   "cell_type": "markdown",
   "metadata": {},
   "source": [
    "### (2) Event Date, Event Datetime 처리"
   ]
  },
  {
   "cell_type": "code",
   "execution_count": null,
   "metadata": {},
   "outputs": [],
   "source": [
    "#     Event Date, Event Datetime이 문자열일 수 있으니 datetime으로 변환\n",
    "df[\"Event Date\"] = pd.to_datetime(df[\"Event Date\"], errors=\"coerce\")  # yyyy-mm-dd\n",
    "df[\"Event Datetime\"] = pd.to_datetime(df[\"Event Datetime\"], errors=\"coerce\") # yyyy-mm-ddTHH:MM:SS+09:00\n",
    "\n",
    "# Date가 정상 변환되었는지 확인\n",
    "print(\"Date range:\", df[\"Event Date\"].min(), \" ~ \", df[\"Event Date\"].max())\n",
    "print(\"Datetime range:\", df[\"Event Datetime\"].min(), \" ~ \", df[\"Event Datetime\"].max())\n",
    "\n",
    "# 날짜별 이벤트 추이\n",
    "df_date_counts = df.groupby(\"Event Date\")[\"Hashed User ID\"].count().reset_index()\n",
    "df_date_counts.columns = [\"Event Date\", \"Count\"]\n",
    "\n",
    "plt.figure(figsize=(8,4))\n",
    "sns.barplot(data=df_date_counts, x=\"Event Date\", y=\"Count\")\n",
    "plt.xticks(rotation=45)\n",
    "plt.title(\"Events by Date\")\n",
    "plt.show()\n",
    "\n",
    "# 시간대별 이벤트 추이 (Event Datetime에서 시(hour) 추출)\n",
    "df[\"Event Hour\"] = df[\"Event Datetime\"].dt.hour\n",
    "plt.figure(figsize=(6,4))\n",
    "sns.countplot(data=df, x=\"Event Hour\")\n",
    "plt.title(\"Events by Hour of Day\")\n",
    "plt.xlabel(\"Hour\")\n",
    "plt.ylabel(\"Count\")\n",
    "plt.show()"
   ]
  },
  {
   "cell_type": "markdown",
   "metadata": {},
   "source": [
    "### (3) Hashed User ID 관련"
   ]
  },
  {
   "cell_type": "code",
   "execution_count": null,
   "metadata": {},
   "outputs": [],
   "source": [
    "print(\"=== Unique Users ===\")\n",
    "unique_users = df[\"Hashed User ID\"].nunique()\n",
    "print(f\"Unique Hashed User IDs: {unique_users}\")\n",
    "\n",
    "# 사용자별 이벤트 건수 분포\n",
    "user_counts = df[\"Hashed User ID\"].value_counts()\n",
    "plt.figure(figsize=(6,4))\n",
    "plt.hist(user_counts, bins=20, edgecolor=\"black\")\n",
    "plt.title(\"Distribution of Event Counts per User\")\n",
    "plt.xlabel(\"Number of Events\")\n",
    "plt.ylabel(\"Count of Users\")\n",
    "plt.show()"
   ]
  },
  {
   "cell_type": "markdown",
   "metadata": {},
   "source": [
    "## 5. Semantic Event Properties (JSON) 파싱"
   ]
  },
  {
   "cell_type": "code",
   "execution_count": null,
   "metadata": {},
   "outputs": [],
   "source": [
    "#    각 row마다 JSON 구조가 다를 수 있으므로, 공통 Key를 확인 후 처리\n",
    "\n",
    "# 예: \"products\" 라는 key 아래에 상품정보들이 배열로 들어있는 케이스 (샘플처럼)\n",
    "#     {\"products\":[{\"name\":\"...\", \"price\":..., \"productID\":\"...\", \"quantity\":...}, ...], ...}\n",
    "\n",
    "def parse_json_column(json_str):\n",
    "    \"\"\"\n",
    "    JSON 문자열을 파이썬 dict로 변환.\n",
    "    에러 발생 시 빈 dict 반환.\n",
    "    \"\"\"\n",
    "    try:\n",
    "        return json.loads(json_str)\n",
    "    except:\n",
    "        return {}\n",
    "\n",
    "df[\"parsed_props\"] = df[\"Semantic Event Properties\"].apply(parse_json_column)\n",
    "\n",
    "# (1) products 리스트 추출 (없으면 빈 리스트 반환)\n",
    "df[\"products\"] = df[\"parsed_props\"].apply(lambda x: x.get(\"products\", []))\n",
    "\n",
    "# (2) explode를 이용해 products 배열을 행으로 펼치기\n",
    "df_exploded = df.explode(\"products\", ignore_index=True)\n",
    "\n",
    "# products가 없었던 행들은 NaN이 됨\n",
    "# product 정보 열 추출\n",
    "df_exploded[\"product_name\"] = df_exploded[\"products\"].apply(lambda x: x.get(\"name\", \"\") if isinstance(x, dict) else None)\n",
    "df_exploded[\"product_price\"] = df_exploded[\"products\"].apply(lambda x: x.get(\"price\", np.nan) if isinstance(x, dict) else None)\n",
    "df_exploded[\"product_id\"] = df_exploded[\"products\"].apply(lambda x: x.get(\"productID\", \"\") if isinstance(x, dict) else None)\n",
    "df_exploded[\"product_quantity\"] = df_exploded[\"products\"].apply(lambda x: x.get(\"quantity\", np.nan) if isinstance(x, dict) else None)\n",
    "\n",
    "print(\"=== Exploded DataFrame Head ===\")\n",
    "display(df_exploded.head(10))"
   ]
  },
  {
   "cell_type": "markdown",
   "metadata": {},
   "source": [
    "## 6. 상품 정보 분석 예시\n",
    "- 주문(event category가 \"Order Complete\" 등) 중심으로만 분석할 수도 있음"
   ]
  },
  {
   "cell_type": "markdown",
   "metadata": {},
   "source": [
    "### (1) 상품별 판매량(또는 이벤트 발생량)"
   ]
  },
  {
   "cell_type": "code",
   "execution_count": null,
   "metadata": {},
   "outputs": [],
   "source": [
    "product_quantity_sum = df_exploded.groupby(\"product_id\")[\"product_quantity\"].sum().reset_index()\n",
    "product_quantity_sum.columns = [\"product_id\", \"total_quantity\"]\n",
    "product_quantity_sum = product_quantity_sum.sort_values(\"total_quantity\", ascending=False)\n",
    "\n",
    "print(\"=== Top 10 products by total quantity ===\")\n",
    "display(product_quantity_sum.head(10))"
   ]
  },
  {
   "cell_type": "markdown",
   "metadata": {},
   "source": [
    "### (2) 상품별 평균 가격"
   ]
  },
  {
   "cell_type": "code",
   "execution_count": null,
   "metadata": {},
   "outputs": [],
   "source": [
    "product_price_mean = df_exploded.groupby(\"product_id\")[\"product_price\"].mean().reset_index()\n",
    "product_price_mean.columns = [\"product_id\", \"avg_price\"]\n",
    "product_price_mean = product_price_mean.sort_values(\"avg_price\", ascending=False)\n",
    "\n",
    "print(\"=== Top 10 products by average price ===\")\n",
    "display(product_price_mean.head(10))\n",
    "\n",
    "# 시각화 예시: 상위 몇 개 상품의 누적 판매량\n",
    "topN = 10\n",
    "topN_products = product_quantity_sum.head(topN)\n",
    "plt.figure(figsize=(8,4))\n",
    "sns.barplot(data=topN_products, x=\"product_id\", y=\"total_quantity\", edgecolor=\"black\")\n",
    "plt.xticks(rotation=45)\n",
    "plt.title(f\"Top {topN} Products by Total Quantity\")\n",
    "plt.show()"
   ]
  },
  {
   "cell_type": "markdown",
   "metadata": {},
   "source": [
    "## 7. Event Category 별로 상품이 어떻게 등장하는지(간단 예시)"
   ]
  },
  {
   "cell_type": "code",
   "execution_count": null,
   "metadata": {},
   "outputs": [],
   "source": [
    "cat_group = df_exploded.groupby([\"Event Category\"])[\"product_id\"].nunique().reset_index()\n",
    "cat_group.columns = [\"Event Category\", \"unique_products\"]\n",
    "print(\"=== Unique products per Event Category ===\")\n",
    "display(cat_group)"
   ]
  },
  {
   "cell_type": "markdown",
   "metadata": {},
   "source": [
    "## 8. 요약"
   ]
  },
  {
   "cell_type": "code",
   "execution_count": null,
   "metadata": {},
   "outputs": [],
   "source": [
    "print(\"=== Quick Summary ===\")\n",
    "print(f\"Total Rows: {len(df)} (original) -> {len(df_exploded)} (exploded)\")\n",
    "print(f\"Unique Users: {unique_users}\")\n",
    "print(f\"Unique Products (after explode): {df_exploded['product_id'].nunique()}\")\n",
    "print(\"Date range:\", df['Event Date'].min(), \" to \", df['Event Date'].max())\n",
    "print(\"Event Category counts:\")\n",
    "print(df['Event Category'].value_counts())"
   ]
  }
 ],
 "metadata": {
  "kernelspec": {
   "display_name": "shoprec",
   "language": "python",
   "name": "python3"
  },
  "language_info": {
   "codemirror_mode": {
    "name": "ipython",
    "version": 3
   },
   "file_extension": ".py",
   "mimetype": "text/x-python",
   "name": "python",
   "nbconvert_exporter": "python",
   "pygments_lexer": "ipython3",
   "version": "3.11.11"
  }
 },
 "nbformat": 4,
 "nbformat_minor": 2
}
