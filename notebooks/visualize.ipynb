{
 "cells": [
  {
   "cell_type": "code",
   "execution_count": null,
   "metadata": {
    "vscode": {
     "languageId": "plaintext"
    }
   },
   "outputs": [],
   "source": [
    "import torch\n",
    "import numpy as np\n",
    "import pandas as pd\n",
    "import matplotlib.pyplot as plt\n",
    "from sklearn.decomposition import PCA\n",
    "from sklearn.cluster import KMeans\n",
    "\n",
    "# 1) 모델 및 인코더 로드 (예시)\n",
    "#    - 학습 시점에 저장했던 state_dict, item_encoder 로드\n",
    "from your_project.training.trainer import TwoTowerModel\n",
    "import joblib\n",
    "\n",
    "# 모델 파라미터 로드\n",
    "model = TwoTowerModel(num_users=..., num_items=..., embed_dim=32)\n",
    "model.load_state_dict(torch.load(\"src/models/two_tower.pt\"))\n",
    "model.eval()\n",
    "\n",
    "# item_encoder 로드 (LabelEncoder)\n",
    "item_encoder = joblib.load(\"src/models/item_encoder.pkl\")\n",
    "num_items = len(item_encoder.classes_)\n",
    "\n",
    "# 2) 전체 아이템 임베딩 추출\n",
    "with torch.no_grad():\n",
    "    item_indices = torch.arange(num_items)  # 0 ~ (num_items-1)\n",
    "    item_emb = model.item_embedding(item_indices)  # shape: (num_items, embed_dim)\n",
    "# 텐서 → 넘파이로 변환\n",
    "item_emb_np = item_emb.cpu().numpy()\n",
    "\n",
    "# 3) 차원 축소 (PCA 예시)\n",
    "pca = PCA(n_components=2)\n",
    "item_emb_2d = pca.fit_transform(item_emb_np)  # shape: (num_items, 2)\n",
    "\n",
    "# 4) 클러스터링 (KMeans 예시)\n",
    "kmeans = KMeans(n_clusters=5, random_state=42)\n",
    "cluster_labels = kmeans.fit_predict(item_emb_2d)\n",
    "\n",
    "# 5) 시각화\n",
    "plt.figure(figsize=(8,6))\n",
    "plt.scatter(item_emb_2d[:, 0], item_emb_2d[:, 1], c=cluster_labels, cmap=\"rainbow\", alpha=0.7)\n",
    "plt.colorbar()\n",
    "plt.title(\"Item Embeddings Clustering (PCA + KMeans)\")\n",
    "plt.xlabel(\"PC1\")\n",
    "plt.ylabel(\"PC2\")\n",
    "plt.show()\n"
   ]
  },
  {
   "cell_type": "code",
   "execution_count": null,
   "metadata": {
    "vscode": {
     "languageId": "plaintext"
    }
   },
   "outputs": [],
   "source": [
    "from sklearn.manifold import TSNE\n",
    "\n",
    "tsne = TSNE(n_components=2, perplexity=30, random_state=42)\n",
    "item_emb_2d = tsne.fit_transform(item_emb_np)\n"
   ]
  }
 ],
 "metadata": {
  "kernelspec": {
   "display_name": "shoprec",
   "language": "python",
   "name": "python3"
  },
  "language_info": {
   "codemirror_mode": {
    "name": "ipython",
    "version": 3
   },
   "file_extension": ".py",
   "mimetype": "text/x-python",
   "name": "python",
   "nbconvert_exporter": "python",
   "pygments_lexer": "ipython3",
   "version": "3.11.11"
  }
 },
 "nbformat": 4,
 "nbformat_minor": 2
}
